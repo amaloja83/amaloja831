{
  "nbformat": 4,
  "nbformat_minor": 0,
  "metadata": {
    "colab": {
      "provenance": [],
      "authorship_tag": "ABX9TyOk1HCc5c3eaS0kCxF3oUrp",
      "include_colab_link": true
    },
    "kernelspec": {
      "name": "python3",
      "display_name": "Python 3"
    },
    "language_info": {
      "name": "python"
    }
  },
  "cells": [
    {
      "cell_type": "markdown",
      "metadata": {
        "id": "view-in-github",
        "colab_type": "text"
      },
      "source": [
        "<a href=\"https://colab.research.google.com/github/amaloja83/amaloja831/blob/main/estructuras_datos.ipynb\" target=\"_parent\"><img src=\"https://colab.research.google.com/assets/colab-badge.svg\" alt=\"Open In Colab\"/></a>"
      ]
    },
    {
      "cell_type": "code",
      "execution_count": 5,
      "metadata": {
        "colab": {
          "base_uri": "https://localhost:8080/"
        },
        "id": "iLYdnd2pT13L",
        "outputId": "98cca304-cf54-4c5d-a256-4773e01a7563"
      },
      "outputs": [
        {
          "output_type": "stream",
          "name": "stdout",
          "text": [
            "Cuantos años tienes? 19\n",
            "Eres mayor de edad\n"
          ]
        }
      ],
      "source": [
        "#Pedir la edad y decir si es o no mayor de edad\n",
        "edad=int(input(\"Cuantos años tienes? \"))\n",
        "\n",
        "if edad<18:\n",
        "   print(\"Eres menor de edad\")\n",
        "elif edad >=18 and edad<65:\n",
        "  print(\"Eres mayor de edad\")\n",
        "else:\n",
        "  print(\"Eres un adulto mayor\")\n"
      ]
    },
    {
      "cell_type": "code",
      "source": [
        "#Pedir dos numeros y compararlos\n",
        "num1=int(input(\"Introduzca el primer numero: \"))\n",
        "num2=int(input(\"Introduzca el segundo numero: \"))\n",
        "\n",
        "if num1>num2:\n",
        "  print(\"El primer número es mayor\")\n",
        "elif num2>num1:\n",
        "  print(\"El segundo número es mayor\")\n",
        "else:\n",
        "  print(\"Los números son iguales\")"
      ],
      "metadata": {
        "colab": {
          "base_uri": "https://localhost:8080/"
        },
        "id": "sFDaXHCsVEfA",
        "outputId": "96060707-6dc5-4013-8b4d-3ee73d668ee6"
      },
      "execution_count": 8,
      "outputs": [
        {
          "output_type": "stream",
          "name": "stdout",
          "text": [
            "Introduzca el primer numero: 4\n",
            "Introduzca el segundo numero: 5\n",
            "El segundo número es mayor\n"
          ]
        }
      ]
    },
    {
      "cell_type": "code",
      "source": [
        "#Generar un numero al azar del 1 al 20 y tiene 5 intentos para adivinarlo\n",
        "import random\n",
        "a=random.randint(1,20)\n",
        "intentos=0\n",
        "\n",
        "while intentos<5:\n",
        "  respuesta=int(input(\"Ingrese un número: \"))\n",
        "  intentos+=1\n",
        "  if respuesta<a:\n",
        "    print(\"El número es mayor\")\n",
        "  if respuesta>a:\n",
        "    print(\"El número es menor\")\n",
        "  if respuesta==a:\n",
        "    break\n",
        "\n",
        "if respuesta==a:\n",
        "    print(f\"Adivinaste el número\")\n",
        "else:\n",
        "    print(f\"Haz fallado, el número es {a}\")"
      ],
      "metadata": {
        "colab": {
          "base_uri": "https://localhost:8080/"
        },
        "id": "5Zy_TBqkWK6f",
        "outputId": "3e38c81c-a901-4971-bc61-65ec16ce024d"
      },
      "execution_count": 14,
      "outputs": [
        {
          "output_type": "stream",
          "name": "stdout",
          "text": [
            "Ingrese un número: 6\n",
            "El número es mayor\n",
            "Ingrese un número: 19\n",
            "El número es menor\n",
            "Ingrese un número: 8\n",
            "El número es mayor\n",
            "Ingrese un número: 10\n",
            "El número es mayor\n",
            "Ingrese un número: 15\n",
            "El número es mayor\n",
            "Haz fallado, el número es 18\n"
          ]
        }
      ]
    }
  ]
}