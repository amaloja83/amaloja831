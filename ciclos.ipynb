{
  "nbformat": 4,
  "nbformat_minor": 0,
  "metadata": {
    "colab": {
      "provenance": [],
      "authorship_tag": "ABX9TyNC+D8p4OktvAPv4NyWrSTK",
      "include_colab_link": true
    },
    "kernelspec": {
      "name": "python3",
      "display_name": "Python 3"
    },
    "language_info": {
      "name": "python"
    }
  },
  "cells": [
    {
      "cell_type": "markdown",
      "metadata": {
        "id": "view-in-github",
        "colab_type": "text"
      },
      "source": [
        "<a href=\"https://colab.research.google.com/github/amaloja83/amaloja831/blob/main/ciclos.ipynb\" target=\"_parent\"><img src=\"https://colab.research.google.com/assets/colab-badge.svg\" alt=\"Open In Colab\"/></a>"
      ]
    },
    {
      "cell_type": "code",
      "execution_count": null,
      "metadata": {
        "colab": {
          "base_uri": "https://localhost:8080/"
        },
        "id": "b7AepYLNIPNw",
        "outputId": "b21826fe-ec79-4d84-dcce-df27b28b74c7"
      },
      "outputs": [
        {
          "output_type": "stream",
          "name": "stdout",
          "text": [
            "manzana\n",
            "banana\n",
            "kiwi\n",
            "naranja\n"
          ]
        }
      ],
      "source": [
        "frutas=[\"manzana\",\"banana\",\"kiwi\",\"naranja\"]\n",
        "for fruta in frutas:\n",
        "  print(fruta)"
      ]
    },
    {
      "cell_type": "code",
      "source": [
        "mensaje=\"Hola, mundo\"\n",
        "for caracter in mensaje:\n",
        "  print(caracter)"
      ],
      "metadata": {
        "colab": {
          "base_uri": "https://localhost:8080/"
        },
        "id": "7njKHHDzLsb1",
        "outputId": "a8a62b39-fe3c-4136-befe-e91b63a41a9a"
      },
      "execution_count": null,
      "outputs": [
        {
          "output_type": "stream",
          "name": "stdout",
          "text": [
            "H\n",
            "o\n",
            "l\n",
            "a\n",
            ",\n",
            " \n",
            "m\n",
            "u\n",
            "n\n",
            "d\n",
            "o\n"
          ]
        }
      ]
    },
    {
      "cell_type": "code",
      "source": [
        "refranes={\"Perro que ladra\":\"no muerde\",\"A quien madruga\":\"Dios le ayuda\",\"No dejes para mañana\":\"Lo que puedas hacer hoy\"}\n",
        "for llave, valor in refranes.items():\n",
        "  refran_completo=llave+\", \"+valor\n",
        "  print(refran_completo)"
      ],
      "metadata": {
        "colab": {
          "base_uri": "https://localhost:8080/"
        },
        "id": "W1Ij1_gtMBRq",
        "outputId": "d1d63df9-bd11-4f60-9d07-f40293ee3215"
      },
      "execution_count": null,
      "outputs": [
        {
          "output_type": "stream",
          "name": "stdout",
          "text": [
            "Perro que ladra, no muerde\n",
            "A quien madruga, Dios le ayuda\n",
            "No dejes para mañana, Lo que puedas hacer hoy\n"
          ]
        }
      ]
    },
    {
      "cell_type": "code",
      "source": [
        "numero=1\n",
        "while numero <= 5:\n",
        " print(numero)\n",
        " numero=numero+1"
      ],
      "metadata": {
        "colab": {
          "base_uri": "https://localhost:8080/"
        },
        "id": "ArZp1dDdM_Qb",
        "outputId": "88ddf5e5-aecc-439c-9965-c7b6fd9ae13d"
      },
      "execution_count": null,
      "outputs": [
        {
          "output_type": "stream",
          "name": "stdout",
          "text": [
            "1\n",
            "2\n",
            "3\n",
            "4\n",
            "5\n"
          ]
        }
      ]
    },
    {
      "cell_type": "code",
      "source": [
        "respuesta=\"\"\n",
        "while respuesta != \"s\":\n",
        "  respuesta=input(\"Quieres finalizar s/n \")\n",
        "print(\"Fin del programa \")"
      ],
      "metadata": {
        "colab": {
          "base_uri": "https://localhost:8080/"
        },
        "id": "r2sjO7IRNS5A",
        "outputId": "62c063ef-c2c5-423f-fe94-18f5bc437aa6"
      },
      "execution_count": null,
      "outputs": [
        {
          "output_type": "stream",
          "name": "stdout",
          "text": [
            "Quieres finalizar s/n a\n",
            "Quieres finalizar s/n c\n",
            "Quieres finalizar s/n s\n",
            "Fin del programa \n"
          ]
        }
      ]
    },
    {
      "cell_type": "code",
      "source": [
        "opcion=0\n",
        "while opcion != 3:\n",
        "  print(\"Que accion deseas realizar? \")\n",
        "  print(\"1. Saludar \")\n",
        "  print(\"2. Sumar dos números\")\n",
        "  print(\"3. Salir\")\n",
        "\n",
        "  opcion = int(input(\"Ingrese su opción: \"))\n",
        "\n",
        "  if opcion==1:\n",
        "    print (\"Hola mundo\")\n",
        "  elif opcion==2:\n",
        "    num1, num2 = map(int, input(\"Ingrese dos numeros separados por espacio: \").split())\n",
        "    print(\"El resultado de la suma de los números es:\", num1+num2)\n",
        "  elif opcion==3:\n",
        "    print(\"Adios\")\n",
        "  else:\n",
        "    print(\"Opcion invalida\")\n"
      ],
      "metadata": {
        "colab": {
          "base_uri": "https://localhost:8080/"
        },
        "id": "JkRXBvmvOHAj",
        "outputId": "535e5837-1013-499b-a18b-2f2a9fc2cc56"
      },
      "execution_count": 12,
      "outputs": [
        {
          "output_type": "stream",
          "name": "stdout",
          "text": [
            "Que accion deseas realizar? \n",
            "1. Saludar \n",
            "2. Sumar dos números\n",
            "3. Salir\n",
            "Opcion invalida\n",
            "Que accion deseas realizar? \n",
            "1. Saludar \n",
            "2. Sumar dos números\n",
            "3. Salir\n",
            "Ingrese su opción: 3\n",
            "Adios\n"
          ]
        }
      ]
    },
    {
      "cell_type": "code",
      "source": [
        "#Ciclos anidados\n",
        "matriz = [[1,2,3],[4,5,6],[7,8,9]]\n",
        "suma=0\n",
        "\n",
        "for fila in matriz:\n",
        "  for elemento in fila:\n",
        "   suma+=elemento\n",
        "  print(suma)"
      ],
      "metadata": {
        "id": "zJ0gf3PtPnDX"
      },
      "execution_count": null,
      "outputs": []
    },
    {
      "cell_type": "code",
      "source": [
        "password=\"adivina\"\n",
        "intentos=0\n",
        "\n",
        "while intentos<3:\n",
        "  respuesta=input(\"Ingrese contraseña: \")\n",
        "  intentos+=1\n",
        "  restantes=3-intentos\n",
        "  if respuesta !=password and restantes!=0:\n",
        "    print(f\"Contraseña incorrecta. te quedan {restantes} intentos\")\n",
        "  else:break\n",
        "\n",
        "if respuesta==password:\n",
        "  print(f\"Acceso permitido\")\n",
        "else:\n",
        "  print(f\"Acceso denegado\")"
      ],
      "metadata": {
        "id": "Igx8EtZJQZ0V",
        "colab": {
          "base_uri": "https://localhost:8080/"
        },
        "outputId": "c3b9e7fc-03a0-40c0-eb00-b9a95b62e29b"
      },
      "execution_count": 25,
      "outputs": [
        {
          "output_type": "stream",
          "name": "stdout",
          "text": [
            "Ingrese contraseña: aa\n",
            "Contraseña incorrecta. te quedan 2 intentos\n",
            "Ingrese contraseña: ss\n",
            "Contraseña incorrecta. te quedan 1 intentos\n",
            "Ingrese contraseña: adivina\n",
            "Acceso permitido\n"
          ]
        }
      ]
    }
  ]
}