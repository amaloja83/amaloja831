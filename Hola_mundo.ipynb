{
  "nbformat": 4,
  "nbformat_minor": 0,
  "metadata": {
    "colab": {
      "provenance": [],
      "authorship_tag": "ABX9TyPdvmSPeMQd/G74jZMNTWuF",
      "include_colab_link": true
    },
    "kernelspec": {
      "name": "python3",
      "display_name": "Python 3"
    },
    "language_info": {
      "name": "python"
    }
  },
  "cells": [
    {
      "cell_type": "markdown",
      "metadata": {
        "id": "view-in-github",
        "colab_type": "text"
      },
      "source": [
        "<a href=\"https://colab.research.google.com/github/amaloja83/amaloja831/blob/main/Hola_mundo.ipynb\" target=\"_parent\"><img src=\"https://colab.research.google.com/assets/colab-badge.svg\" alt=\"Open In Colab\"/></a>"
      ]
    },
    {
      "cell_type": "code",
      "source": [
        "nombre = input (\"Introduce tu nombre: \")\n",
        "print ('Hola' + ' ' + nombre)"
      ],
      "metadata": {
        "colab": {
          "base_uri": "https://localhost:8080/"
        },
        "id": "PValIk0u8QOy",
        "outputId": "b3773325-7c7c-4d9b-cdcf-2bd8154f7d8b"
      },
      "execution_count": 5,
      "outputs": [
        {
          "output_type": "stream",
          "name": "stdout",
          "text": [
            "Introduce tu nombre: Alexa\n",
            "Hola Alexa\n"
          ]
        }
      ]
    },
    {
      "cell_type": "code",
      "source": [
        "#Solicitamos la edad, y la concatenamos con la variable almacenada\n",
        "edad = input ('Introduce tu edad: ')\n",
        "print (f'Hola,{nombre}. Tienes {edad} años')"
      ],
      "metadata": {
        "colab": {
          "base_uri": "https://localhost:8080/"
        },
        "id": "r2gcq5kS81kp",
        "outputId": "8394e0e2-a8a9-402d-e179-e211a878407e"
      },
      "execution_count": 6,
      "outputs": [
        {
          "output_type": "stream",
          "name": "stdout",
          "text": [
            "Introduce tu edad: 40\n",
            "Hola,Alexa. Tienes 40 años\n"
          ]
        }
      ]
    },
    {
      "cell_type": "code",
      "source": [
        "print (\"Hola Mundo\")"
      ],
      "metadata": {
        "colab": {
          "base_uri": "https://localhost:8080/"
        },
        "id": "_0ddRQwU65tv",
        "outputId": "c9f5db2f-a3f0-4100-b4fc-33134779b37e"
      },
      "execution_count": 2,
      "outputs": [
        {
          "output_type": "stream",
          "name": "stdout",
          "text": [
            "Hola Mundo\n"
          ]
        }
      ]
    },
    {
      "cell_type": "markdown",
      "source": [
        "# Primer print"
      ],
      "metadata": {
        "id": "45O8qqQf7Gpy"
      }
    },
    {
      "cell_type": "markdown",
      "source": [
        "Vamos a imprimir Hola mundo"
      ],
      "metadata": {
        "id": "bN-MJ-e76-YO"
      }
    }
  ]
}