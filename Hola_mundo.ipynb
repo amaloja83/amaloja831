{
  "nbformat": 4,
  "nbformat_minor": 0,
  "metadata": {
    "colab": {
      "provenance": [],
      "authorship_tag": "ABX9TyPsIjxFbpNFCD2nehKnJxLp",
      "include_colab_link": true
    },
    "kernelspec": {
      "name": "python3",
      "display_name": "Python 3"
    },
    "language_info": {
      "name": "python"
    }
  },
  "cells": [
    {
      "cell_type": "markdown",
      "metadata": {
        "id": "view-in-github",
        "colab_type": "text"
      },
      "source": [
        "<a href=\"https://colab.research.google.com/github/amaloja83/amaloja831/blob/main/Hola_mundo.ipynb\" target=\"_parent\"><img src=\"https://colab.research.google.com/assets/colab-badge.svg\" alt=\"Open In Colab\"/></a>"
      ]
    },
    {
      "cell_type": "code",
      "source": [
        "print (\"Hola Mundo\")"
      ],
      "metadata": {
        "colab": {
          "base_uri": "https://localhost:8080/"
        },
        "id": "_0ddRQwU65tv",
        "outputId": "c9f5db2f-a3f0-4100-b4fc-33134779b37e"
      },
      "execution_count": 2,
      "outputs": [
        {
          "output_type": "stream",
          "name": "stdout",
          "text": [
            "Hola Mundo\n"
          ]
        }
      ]
    },
    {
      "cell_type": "markdown",
      "source": [
        "# Primer print"
      ],
      "metadata": {
        "id": "45O8qqQf7Gpy"
      }
    },
    {
      "cell_type": "markdown",
      "source": [
        "Vamos a imprimir Hola mundo"
      ],
      "metadata": {
        "id": "bN-MJ-e76-YO"
      }
    }
  ]
}