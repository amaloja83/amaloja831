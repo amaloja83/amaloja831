{
  "nbformat": 4,
  "nbformat_minor": 0,
  "metadata": {
    "colab": {
      "provenance": [],
      "authorship_tag": "ABX9TyMJ6extM2whLSxZBL8JkkOw",
      "include_colab_link": true
    },
    "kernelspec": {
      "name": "python3",
      "display_name": "Python 3"
    },
    "language_info": {
      "name": "python"
    }
  },
  "cells": [
    {
      "cell_type": "markdown",
      "metadata": {
        "id": "view-in-github",
        "colab_type": "text"
      },
      "source": [
        "<a href=\"https://colab.research.google.com/github/amaloja83/amaloja831/blob/main/Estructuras_de_control.ipynb\" target=\"_parent\"><img src=\"https://colab.research.google.com/assets/colab-badge.svg\" alt=\"Open In Colab\"/></a>"
      ]
    },
    {
      "cell_type": "code",
      "execution_count": 1,
      "metadata": {
        "colab": {
          "base_uri": "https://localhost:8080/"
        },
        "id": "4-GabIdb5Al2",
        "outputId": "83abdfb0-49ea-4d8f-96af-96c86743c462"
      },
      "outputs": [
        {
          "output_type": "stream",
          "name": "stdout",
          "text": [
            "Ingrese un numero: 147\n",
            "147 es un número impar\n"
          ]
        }
      ],
      "source": [
        "#Estructuras de control\n",
        "num=int(input(\"Ingrese un numero: \"))\n",
        "if num%2 == 0:\n",
        "  print (num, \"es un número par\")\n",
        "else:\n",
        "  print (num, \"es un número impar\")\n"
      ]
    },
    {
      "cell_type": "code",
      "source": [
        "x=11\n",
        "\n",
        "if x>10:\n",
        "  print(\"x es mayor que 10\")\n",
        "elif x>5:\n",
        "    print(\"x es mayor que 5 pero menor o igual que 10\")\n",
        "elif x>2:\n",
        "    print(\"x es mayor que 2 pero menor o igual que 5\")"
      ],
      "metadata": {
        "colab": {
          "base_uri": "https://localhost:8080/"
        },
        "id": "4YIa6JL16LSH",
        "outputId": "ab7df9fe-e043-4773-a7dd-2787a1665ae4"
      },
      "execution_count": 4,
      "outputs": [
        {
          "output_type": "stream",
          "name": "stdout",
          "text": [
            "x es mayor que 10\n"
          ]
        }
      ]
    },
    {
      "cell_type": "code",
      "source": [
        "variable_boolean=1==1\n",
        "if variable_boolean:\n",
        "  print(variable_boolean)"
      ],
      "metadata": {
        "colab": {
          "base_uri": "https://localhost:8080/"
        },
        "id": "5lh_ilc7C8Fb",
        "outputId": "d186a3c9-38ee-4d40-eb6e-fe19722b2ad3"
      },
      "execution_count": 5,
      "outputs": [
        {
          "output_type": "stream",
          "name": "stdout",
          "text": [
            "True\n"
          ]
        }
      ]
    }
  ]
}