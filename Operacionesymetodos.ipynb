{
  "nbformat": 4,
  "nbformat_minor": 0,
  "metadata": {
    "colab": {
      "provenance": [],
      "authorship_tag": "ABX9TyPB5pSC9+aaEoxjH0auIbPG",
      "include_colab_link": true
    },
    "kernelspec": {
      "name": "python3",
      "display_name": "Python 3"
    },
    "language_info": {
      "name": "python"
    }
  },
  "cells": [
    {
      "cell_type": "markdown",
      "metadata": {
        "id": "view-in-github",
        "colab_type": "text"
      },
      "source": [
        "<a href=\"https://colab.research.google.com/github/amaloja83/amaloja831/blob/main/Operacionesymetodos.ipynb\" target=\"_parent\"><img src=\"https://colab.research.google.com/assets/colab-badge.svg\" alt=\"Open In Colab\"/></a>"
      ]
    },
    {
      "cell_type": "code",
      "execution_count": 1,
      "metadata": {
        "colab": {
          "base_uri": "https://localhost:8080/"
        },
        "id": "eu3Kh5J7RKkJ",
        "outputId": "7bda0044-b61d-4da8-ae2d-64917808e1f5"
      },
      "outputs": [
        {
          "output_type": "stream",
          "name": "stdout",
          "text": [
            "CarlosGonzalez\n",
            "CarlosCarlosCarlos\n",
            "333\n",
            "2\n",
            "8\n",
            "CARLOS\n"
          ]
        }
      ],
      "source": [
        "a = 'Carlos'\n",
        "b = 'Gonzalez'\n",
        "c = '3'\n",
        "print(a+b)\n",
        "print(3*a)\n",
        "print(3*c)\n",
        "print(b.count('z'))\n",
        "print(len(b))\n",
        "print(a.upper())"
      ]
    },
    {
      "cell_type": "code",
      "source": [
        "#Operaciones aritmeticas\n",
        "print(5+3)\n",
        "print(5-3)\n",
        "print(5*3)\n",
        "print(5/3)\n",
        "print(5//3) #numero entero\n",
        "print(5%3) #modulo"
      ],
      "metadata": {
        "colab": {
          "base_uri": "https://localhost:8080/"
        },
        "id": "4awzVEwlSUSV",
        "outputId": "23d2308e-1c17-49fe-e709-4f3220e94b11"
      },
      "execution_count": 2,
      "outputs": [
        {
          "output_type": "stream",
          "name": "stdout",
          "text": [
            "8\n",
            "2\n",
            "15\n",
            "1.6666666666666667\n",
            "1\n",
            "2\n"
          ]
        }
      ]
    },
    {
      "cell_type": "code",
      "source": [
        "lista=[6,2,7,3,9,11,32,-4,1]\n",
        "#max devuelve el numero mayor de la lista\n",
        "print(max(lista))"
      ],
      "metadata": {
        "colab": {
          "base_uri": "https://localhost:8080/"
        },
        "id": "AXJCR27KSvEy",
        "outputId": "82186741-e15c-4813-84fe-84df5c390ae7"
      },
      "execution_count": 3,
      "outputs": [
        {
          "output_type": "stream",
          "name": "stdout",
          "text": [
            "32\n"
          ]
        }
      ]
    },
    {
      "cell_type": "code",
      "source": [
        "#Crearemos un programa que nos pide el precio de un articulo, la cantidad de ellos que se compran, el porcentaje de descuento del articulo\n",
        "#Retorna el total a pagar\n",
        "\n",
        "#Solicitamos el precio del articulo\n",
        "precio_articulo= float(input(\"Ingrese el precio del articulo: \"))\n",
        "#Solicitamos la cantidad\n",
        "cantidad_articulo= float(input(\"Ingrese la cantidad de articulos a comprar: \"))\n",
        "#Solicitamos el descuento a aplicar\n",
        "porcentaje_descuento= float(input(\"Ingrese el descuento ofrecido: \"))\n",
        "#Calcular el total\n",
        "descuento=precio_articulo*(porcentaje_descuento/100)\n",
        "total_pago=(precio_articulo-descuento)*cantidad_articulo\n",
        "\n",
        "#Mostrar el resultado\n",
        "print(f\"El total a pagar es de {total_pago:.2f} pesos\")"
      ],
      "metadata": {
        "colab": {
          "base_uri": "https://localhost:8080/"
        },
        "id": "173AkJVJTIl4",
        "outputId": "e0037c95-6244-4996-e4b0-b8473efedc2a"
      },
      "execution_count": 4,
      "outputs": [
        {
          "output_type": "stream",
          "name": "stdout",
          "text": [
            "Ingrese el precio del articulo: 100\n",
            "Ingrese la cantidad de articulos a comprar: 1\n",
            "Ingrese el descuento ofrecido: 10\n",
            "El total a pagar es de 90.00 pesos\n"
          ]
        }
      ]
    },
    {
      "cell_type": "code",
      "source": [
        "#Librerias\n",
        "#Genera un numero aleatorio entre 1 y 10\n",
        "import random\n",
        "num_aleatorio = random.randint(1,10)\n",
        "print(f'El numero aleatorio es {num_aleatorio}')"
      ],
      "metadata": {
        "colab": {
          "base_uri": "https://localhost:8080/"
        },
        "id": "FB3jCuFOVYCy",
        "outputId": "3d596f6c-2925-423a-e5c9-5a6464892159"
      },
      "execution_count": 7,
      "outputs": [
        {
          "output_type": "stream",
          "name": "stdout",
          "text": [
            "El numero aleatorio es 6\n"
          ]
        }
      ]
    },
    {
      "cell_type": "code",
      "source": [
        "#Genera un numero decimal aleatorio entre 0 y 1\n",
        "import random\n",
        "num_decimal_aleatorio = random.random()\n",
        "print(f'El numero decimal aleatorio es {num_decimal_aleatorio}')"
      ],
      "metadata": {
        "colab": {
          "base_uri": "https://localhost:8080/"
        },
        "id": "bxUDSPKVb-dU",
        "outputId": "6e0f08c9-3a59-487b-8cb1-9afd7dd3ef2d"
      },
      "execution_count": 10,
      "outputs": [
        {
          "output_type": "stream",
          "name": "stdout",
          "text": [
            "El numero decimal aleatorio es 0.4896340642313103\n"
          ]
        }
      ]
    }
  ]
}